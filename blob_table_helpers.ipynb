{
 "cells": [
  {
   "cell_type": "code",
   "execution_count": null,
   "metadata": {},
   "outputs": [],
   "source": [
    "!pip install azure-storage-blob==1.5.0\n",
    "!pip install azure-cosmosdb-table==1.0.6"
   ]
  },
  {
   "cell_type": "code",
   "execution_count": null,
   "metadata": {},
   "outputs": [],
   "source": [
    "from azure.storage.blob import BlockBlobService\n",
    "from azure.cosmosdb.table.tableservice import TableService\n",
    "account_key = 'test'\n",
    "account_name = 'test'\n",
    "blob_service = BlockBlobService(account_name=account_name,account_key=account_name)\n",
    "table_service = TableService(account_name=account_name,account_key=account_key)"
   ]
  },
  {
   "cell_type": "code",
   "execution_count": 6,
   "metadata": {},
   "outputs": [],
   "source": [
    "def create_container(container_name):\n",
    "    if not blob_service.exists(container_name):\n",
    "        # Create the container if it doesn't exist\n",
    "        blob_service.create_container(container_name)\n",
    "        print(f\"Container '{container_name}' created successfully\")\n",
    "create_container('testanddelete')\n"
   ]
  },
  {
   "cell_type": "code",
   "execution_count": 13,
   "metadata": {},
   "outputs": [
    {
     "name": "stdout",
     "output_type": "stream",
     "text": [
      "Blob name: test/es_op.txt\n"
     ]
    }
   ],
   "source": [
    "def list_blobs(container_name):\n",
    "    blobs = blob_service.list_blobs(container_name)\n",
    "    for blob in blobs:\n",
    "        print(f\"Blob name: {blob.name}\")\n",
    "list_blobs('testanddelete')"
   ]
  },
  {
   "cell_type": "code",
   "execution_count": 9,
   "metadata": {},
   "outputs": [
    {
     "name": "stdout",
     "output_type": "stream",
     "text": [
      "File 'es_op.txt' uploaded to 'testanddelete' successfully.\n"
     ]
    }
   ],
   "source": [
    "\n",
    "def upload_blob(container_name, blob_path, local_file_name):\n",
    "    blob_service.create_blob_from_path(container_name, blob_path, local_file_name)\n",
    "    print(f\"File '{local_file_name}' uploaded to '{container_name}' successfully.\")\n",
    "upload_blob('testanddelete', 'test/es_op.txt', 'es_op.txt')"
   ]
  },
  {
   "cell_type": "code",
   "execution_count": 10,
   "metadata": {},
   "outputs": [
    {
     "name": "stdout",
     "output_type": "stream",
     "text": [
      "File 'test/es_op.txt' downloaded to 'es_op_downloaded.txt' successfully.\n"
     ]
    }
   ],
   "source": [
    "def download_blob(container_name, blob_path, local_file_name):\n",
    "    blob_service.get_blob_to_path(container_name, blob_path, local_file_name)\n",
    "    print(f\"File '{blob_path}' downloaded to '{local_file_name}' successfully.\")\n",
    "download_blob('testanddelete', 'test/es_op.txt', 'es_op_downloaded.txt')"
   ]
  },
  {
   "cell_type": "code",
   "execution_count": 8,
   "metadata": {},
   "outputs": [
    {
     "name": "stderr",
     "output_type": "stream",
     "text": [
      "Client-Request-ID=f72c44b6-b87c-11ee-8868-2c33589a9047 Retry policy did not allow for a retry: Server-Timestamp=Sun, 21 Jan 2024 16:50:33 GMT, Server-Request-ID=9914254f-f002-005e-7d89-4c2419000000, HTTP status code=404, Exception=Not Found{\"odata.error\":{\"code\":\"ResourceNotFound\",\"message\":{\"lang\":\"en-US\",\"value\":\"The specified resource does not exist.\\nRequestId:9914254f-f002-005e-7d89-4c2419000000\\nTime:2024-01-21T16:50:33.7955361Z\"}}}.\n"
     ]
    },
    {
     "name": "stdout",
     "output_type": "stream",
     "text": [
      "Table 'testanddelete' created successfully\n"
     ]
    }
   ],
   "source": [
    "def create_table(table_name):\n",
    "    if not table_service.exists(table_name):\n",
    "        # Create the container if it doesn't exist\n",
    "        table_service.create_table(table_name)\n",
    "        print(f\"Table '{table_name}' created successfully\")\n",
    "create_table('testanddelete')"
   ]
  },
  {
   "cell_type": "code",
   "execution_count": 12,
   "metadata": {},
   "outputs": [
    {
     "name": "stdout",
     "output_type": "stream",
     "text": [
      "Entity '{'PartitionKey': 'test', 'RowKey': '1', 'Name': 'test'}' inserted to 'testanddelete' successfully.\n",
      "Entity '{'PartitionKey': 'test', 'RowKey': '2', 'Name': 'test2'}' inserted to 'testanddelete' successfully.\n"
     ]
    }
   ],
   "source": [
    "\n",
    "def insert_entity(table_name, entity):\n",
    "    table_service.insert_entity(table_name, entity)\n",
    "    print(f\"Entity '{entity}' inserted to '{table_name}' successfully.\")\n",
    "insert_entity('testanddelete', {'PartitionKey': 'test', 'RowKey': '1', 'Name': 'test'})\n",
    "insert_entity('testanddelete', {'PartitionKey': 'test', 'RowKey': '2', 'Name': 'test2'})"
   ]
  },
  {
   "cell_type": "code",
   "execution_count": null,
   "metadata": {},
   "outputs": [],
   "source": []
  }
 ],
 "metadata": {
  "kernelspec": {
   "display_name": "myenv",
   "language": "python",
   "name": "python3"
  },
  "language_info": {
   "codemirror_mode": {
    "name": "ipython",
    "version": 3
   },
   "file_extension": ".py",
   "mimetype": "text/x-python",
   "name": "python",
   "nbconvert_exporter": "python",
   "pygments_lexer": "ipython3",
   "version": "3.9.16"
  }
 },
 "nbformat": 4,
 "nbformat_minor": 2
}
